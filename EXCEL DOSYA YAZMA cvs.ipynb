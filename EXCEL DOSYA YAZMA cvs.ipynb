{
 "cells": [
  {
   "cell_type": "code",
   "execution_count": 1,
   "metadata": {},
   "outputs": [
    {
     "name": "stdout",
     "output_type": "stream",
     "text": [
      "Writing ornekaytek.csv\n"
     ]
    }
   ],
   "source": [
    "%%writefile ornekaytek.csv\n",
    "\"Potter, H\",37,\"Londra, İngiltere\"\n",
    "\"Granger, H\",36,\"Sydney, Avustralya\"\n",
    "\"Weasley, Bill\",45,\"Bükreş, Romanya\""
   ]
  },
  {
   "cell_type": "code",
   "execution_count": 2,
   "metadata": {},
   "outputs": [
    {
     "name": "stdout",
     "output_type": "stream",
     "text": [
      "['Potter, H', '37', 'Londra, Ä°ngiltere']\n",
      "['Granger, H', '36', 'Sydney, Avustralya']\n",
      "['Weasley, Bill', '45', 'BÃ¼kreÅŸ, Romanya']\n"
     ]
    }
   ],
   "source": [
    "import csv\n",
    "with open(\"ornekaytek.csv\") as f:\n",
    "    okur = csv.reader(f)\n",
    "    for satır in okur:\n",
    "        print(satır)"
   ]
  },
  {
   "cell_type": "code",
   "execution_count": 3,
   "metadata": {},
   "outputs": [
    {
     "name": "stdout",
     "output_type": "stream",
     "text": [
      "Writing ornek2.csv\n"
     ]
    }
   ],
   "source": [
    "%%writefile ornek2.csv\n",
    "/Potter, H/ 37 /Londra, İngiltere/\n",
    "/Granger, H/ 36 /Sydney, Avustralya/\n",
    "/Weasley, Bill/ 45 /Bükreş, Romanya/"
   ]
  },
  {
   "cell_type": "code",
   "execution_count": 4,
   "metadata": {},
   "outputs": [
    {
     "name": "stdout",
     "output_type": "stream",
     "text": [
      "['Potter, H', '37', 'Londra, Ä°ngiltere']\n",
      "['Granger, H', '36', 'Sydney, Avustralya']\n",
      "['Weasley, Bill', '45', 'BÃ¼kreÅŸ, Romanya']\n"
     ]
    }
   ],
   "source": [
    "with open(\"ornek2.csv\") as f:\n",
    "    okur = csv.reader(f, delimiter=\" \", quotechar=\"/\")\n",
    "    for satır in okur:\n",
    "        print(satır)"
   ]
  },
  {
   "cell_type": "code",
   "execution_count": 7,
   "metadata": {},
   "outputs": [],
   "source": [
    "with open(\"ornek3.csv\", \"w\", newline=\"\") as f:\n",
    "    yazıcı = csv.writer(f)\n",
    "    yazıcı.writerow(['Potter, H', '37', 'Londra, İngiltere'])\n",
    "    yazıcı.writerow(['Granger, H', '36', 'Sydney, Avustralya'])"
   ]
  },
  {
   "cell_type": "code",
   "execution_count": 9,
   "metadata": {},
   "outputs": [
    {
     "name": "stdout",
     "output_type": "stream",
     "text": [
      "Writing yalanci_veri.json\n"
     ]
    }
   ],
   "source": [
    "%%writefile yalanci_veri.json\n",
    "[{\n",
    "  \"id\": 1,\n",
    "  \"first_name\": \"Fredia\",\n",
    "  \"last_name\": \"Waith\",\n",
    "  \"email\": \"fwaith0@tamu.edu\"\n",
    "}, {\n",
    "  \"id\": 2,\n",
    "  \"first_name\": \"Rafaello\",\n",
    "  \"last_name\": \"Rowthorn\",\n",
    "  \"email\": \"rrowthorn1@stanford.edu\"\n",
    "}, {\n",
    "  \"id\": 3,\n",
    "  \"first_name\": \"Harriette\",\n",
    "  \"last_name\": \"Patters\",\n",
    "  \"email\": \"hpatters2@samsung.com\"\n",
    "}]"
   ]
  }
 ],
 "metadata": {
  "kernelspec": {
   "display_name": "Python 3",
   "language": "python",
   "name": "python3"
  },
  "language_info": {
   "codemirror_mode": {
    "name": "ipython",
    "version": 3
   },
   "file_extension": ".py",
   "mimetype": "text/x-python",
   "name": "python",
   "nbconvert_exporter": "python",
   "pygments_lexer": "ipython3",
   "version": "3.7.3"
  }
 },
 "nbformat": 4,
 "nbformat_minor": 2
}
