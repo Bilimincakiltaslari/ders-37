{
 "cells": [
  {
   "cell_type": "code",
   "execution_count": null,
   "metadata": {},
   "outputs": [],
   "source": [
    "# import ile kütüphaneden openpyxl modülünü projeye dahil ediyoruz.\n",
    "from  openpyxl import *"
   ]
  },
  {
   "cell_type": "code",
   "execution_count": null,
   "metadata": {},
   "outputs": [],
   "source": [
    "# Dosya oluşturulurken ilk olarak Excel çalışma  kitabı tanımlanır.\n",
    "kitap = Workbook()"
   ]
  },
  {
   "cell_type": "code",
   "execution_count": null,
   "metadata": {},
   "outputs": [],
   "source": [
    "# Daha sonra her Excel dosyasında en az bir tane olması gereken \n",
    "# Excel sayfası(Worksheet) oluşturulur.\n",
    "sheet = kitap.active"
   ]
  },
  {
   "cell_type": "code",
   "execution_count": null,
   "metadata": {},
   "outputs": [],
   "source": [
    "# Dosyanın kayıt edileceği dizin belirtilmezse Excel dosyası \n",
    "# Python dosyası ile aynı dizine kayıt edilir.\n",
    "# kitap.save(dizin//dosya.xlsx)\n",
    "kitap.save(\"dosya.xlsx\")"
   ]
  },
  {
   "cell_type": "code",
   "execution_count": null,
   "metadata": {},
   "outputs": [],
   "source": [
    "# Excel dosyası oluşturulduktan sonra kayıt edilerek dosya kapatılır.\n",
    "kitap.close()"
   ]
  },
  {
   "cell_type": "code",
   "execution_count": null,
   "metadata": {},
   "outputs": [],
   "source": [
    "# Python’da bir Excel kitaplığı içerisinde yeni bir çalışma sayfası \n",
    "# oluşturulabilir,kitaplık içerisinde yer alan sayfalar \n",
    "# görüntülenebilir ve çalışılacak sayfalar seçilebilir.\n",
    "kitap.create_sheet(\"calismasayfasi1\")"
   ]
  },
  {
   "cell_type": "code",
   "execution_count": null,
   "metadata": {},
   "outputs": [],
   "source": [
    "# Yeni bir çalışma sayfası oluşturur. İkinci parametre olarak \n",
    "# sayfanın konumu verilebilir.\n",
    "kitap.create_sheet(\"calismasayfasi1\",2)"
   ]
  },
  {
   "cell_type": "code",
   "execution_count": null,
   "metadata": {},
   "outputs": [],
   "source": [
    "# Aktif olan çalışma sayfasının ismini dönderir\n",
    "kitap.get_active_sheet()"
   ]
  },
  {
   "cell_type": "code",
   "execution_count": null,
   "metadata": {},
   "outputs": [],
   "source": [
    "# Excel Kitaplığında yer alan çalışma sayfalarının isimlerini verir.\n",
    "kitap.get_sheet_names()"
   ]
  },
  {
   "cell_type": "code",
   "execution_count": null,
   "metadata": {},
   "outputs": [],
   "source": [
    "# 1)Satır Satır Eklemek\n",
    "# Ekleme yaparken append metodu kullanılır.\n",
    "# Bu metot parametre olarak list,tuple,range \n",
    "# veya generator veya dict veri tiplerinden parametre alır.\n",
    "\n",
    "kitap = Workbook()\n",
    "sheet = kitap.active\n",
    "sheet.append((\"Adı\",\"Soyadı\",\"\",\"Telefonu\"))\n",
    "sheet.append([\"Mustafa\",\"Demir\",\"boş\",\"05325321289\"])\n",
    "\n",
    "kitap.save(\"dosya.xlsx\")\n",
    "kitap.close()"
   ]
  },
  {
   "cell_type": "code",
   "execution_count": null,
   "metadata": {},
   "outputs": [],
   "source": [
    "# 2)Hücrelere Veri Yazdırmak\n",
    "# Python’da istenilen herhangi bir hücreye veri yazmak için \n",
    "# çalışma sayfasına ait hücre adı belirtilir.\n",
    "\n",
    "kitap = Workbook()\n",
    "sayfa = kitap.active\n",
    "sayfa[\"A1\"]=\"DERSLER\"\n",
    "sayfa[\"A2\"]=\"Python\"\n",
    "sayfa[\"A3\"]=\"Stem\"\n",
    "sayfa[\"A4\"]=\"Quantum\"\n",
    "sayfa[\"A5\"]=\"Ritim\"\n",
    "kitap.save(\"dosya.xlsx\")\n",
    "kitap.close()"
   ]
  },
  {
   "cell_type": "code",
   "execution_count": null,
   "metadata": {},
   "outputs": [],
   "source": [
    "# İstenilen hücreye veri yazdırmanın bir diğer yolu da \n",
    "# hücrenin koordinatlarını belirtmektir.\n",
    "\n",
    "kitap = Workbook()\n",
    "sayfa = kitap.active\n",
    "sayfa.cell(row=3,column=3,value=\"Nereye yazdı\")\n",
    "kitap.save(\"dosya.xlsx\")\n",
    "kitap.close()"
   ]
  },
  {
   "cell_type": "code",
   "execution_count": null,
   "metadata": {},
   "outputs": [],
   "source": [
    "# Var olan bir Excel dosyasını açmak için load_workbook() fonksiyonu \n",
    "# kullanılır. Dosyanın dizin adresi bu fonksiyona parametre olarak verilir.\n",
    "\n",
    "kitap = load_workbook(\"dosya.xlsx\")"
   ]
  },
  {
   "cell_type": "code",
   "execution_count": null,
   "metadata": {},
   "outputs": [],
   "source": [
    "#Şimdi var olan bir Excel dosyasını açalım ve içerisine \n",
    "# yeni çalışma alanı ile birlikte veriler ekleyelim.\n",
    "\n",
    "from  openpyxl import *\n",
    "kitap = load_workbook(\"dosya.xlsx\")\n",
    "sayfa=kitap.create_sheet(\"ilk sayfam\",1)\n",
    "sayfa.cell(row=5,column=2,value=\"kelime\")\n",
    "kitap.save(\"dosya.xlsx\")\n",
    "kitap.close()"
   ]
  },
  {
   "cell_type": "code",
   "execution_count": null,
   "metadata": {},
   "outputs": [],
   "source": [
    "# Şimdi var olan bir Excel dosyasını açalım ve içerisine \n",
    "# yeni çalışma alanı ile birlikte veriler ekleyelim.\n",
    "\n",
    "from  openpyxl import *\n",
    "kitap = load_workbook(\"dosya.xlsx\")\n",
    "sheet=kitap.create_sheet(\"ilk sayfam\",1)\n",
    "sheet.cell(row=4,column=4,value=\"Yazılım\")\n",
    "kitap.save(\"dosya.xlsx\")\n",
    "kitap.close()"
   ]
  },
  {
   "cell_type": "code",
   "execution_count": null,
   "metadata": {
    "scrolled": true
   },
   "outputs": [],
   "source": [
    "# Dosyadaki satırları okuyabilmek için iter_rows() fonksiyonunu kullandık.\n",
    "# Bu fonksiyon parametre olarak okunacak minimum ve maksimum satır,stun \n",
    "# değerlerini parametre alır.+ satır ve 2 sütunda veri olduğu için 4 ve 2 \n",
    "# değerleri verilmiştir.Eğer belirtilen maksimum değerlerinin kapsadığı \n",
    "# sütunlarda veri yok ise None değeri dönderir.\n",
    "from  openpyxl import *\n",
    "kitap = load_workbook(\"dosya.xlsx\")\n",
    "sheet=kitap.active\n",
    "for row in sheet.iter_rows(min_row=1, min_col=1, max_row=4, max_col=2):\n",
    "    for cell in row:\n",
    "        print(cell.value ,end=\" \")\n",
    "    print()\n",
    "\n",
    "kitap.close()"
   ]
  },
  {
   "cell_type": "code",
   "execution_count": null,
   "metadata": {},
   "outputs": [],
   "source": [
    "# Aynı örnek dosyamız içerisinde yer alan A sütununun değerleri okuyalım.\n",
    "\n",
    "from  openpyxl import *\n",
    "kitap = load_workbook(\"dosya.xlsx\")\n",
    "sheet=kitap.active\n",
    "for row in sheet.iter_cols(min_row=1, min_col=1, max_row=4, max_col=1):\n",
    "    for cell in row:\n",
    "        print(cell.value )"
   ]
  },
  {
   "cell_type": "code",
   "execution_count": null,
   "metadata": {},
   "outputs": [],
   "source": []
  }
 ],
 "metadata": {
  "kernelspec": {
   "display_name": "Python 3",
   "language": "python",
   "name": "python3"
  },
  "language_info": {
   "codemirror_mode": {
    "name": "ipython",
    "version": 3
   },
   "file_extension": ".py",
   "mimetype": "text/x-python",
   "name": "python",
   "nbconvert_exporter": "python",
   "pygments_lexer": "ipython3",
   "version": "3.7.3"
  }
 },
 "nbformat": 4,
 "nbformat_minor": 2
}
